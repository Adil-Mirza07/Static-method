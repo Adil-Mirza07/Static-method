{
 "cells": [
  {
   "cell_type": "code",
   "execution_count": 1,
   "id": "8fd7030d-22c9-4b7d-9ced-58fb2e456eae",
   "metadata": {},
   "outputs": [],
   "source": [
    "class pwskills:\n",
    "    def student_details(self , name , mail_id , number) :\n",
    "        print(name , mail_id , number)"
   ]
  },
  {
   "cell_type": "code",
   "execution_count": 2,
   "id": "b9f09358-e685-42b0-ba2f-5d906b01fb0b",
   "metadata": {},
   "outputs": [],
   "source": [
    "pw = pwskills()"
   ]
  },
  {
   "cell_type": "code",
   "execution_count": 10,
   "id": "95954220-f053-4df7-95b7-b8fb75e2462b",
   "metadata": {},
   "outputs": [
    {
     "name": "stdout",
     "output_type": "stream",
     "text": [
      "sudh sudh@gmail.com 92383947\n"
     ]
    }
   ],
   "source": [
    "pw.student_details(\"sudh\" , \"sudh@gmail.com\" , 92383947)"
   ]
  },
  {
   "cell_type": "code",
   "execution_count": 14,
   "id": "16a78447-413d-417d-bd8b-3d121eece475",
   "metadata": {},
   "outputs": [],
   "source": [
    "class pwskills:\n",
    "    def student_details(self , name , mail_id , number) :\n",
    "        print(name , mail_id , number)\n",
    "        \n",
    "    @staticmethod\n",
    "    def mentor_class(list_mentor) :\n",
    "        print(list_mentor)\n",
    "    def mentor(self , mentor_list) :\n",
    "        print(mentor_list)"
   ]
  },
  {
   "cell_type": "code",
   "execution_count": 16,
   "id": "b0ac8058-cfe3-4edc-bde9-3736e3fc06a9",
   "metadata": {},
   "outputs": [],
   "source": [
    "pw1 = pwskills()"
   ]
  },
  {
   "cell_type": "code",
   "execution_count": 17,
   "id": "e253cf8b-b4cc-4bf4-9d79-3d8c7875cfe4",
   "metadata": {},
   "outputs": [
    {
     "name": "stdout",
     "output_type": "stream",
     "text": [
      "['adil', 'sudh']\n"
     ]
    }
   ],
   "source": [
    "pw1.mentor([\"adil\" , \"sudh\" ])"
   ]
  },
  {
   "cell_type": "code",
   "execution_count": 18,
   "id": "fd676d75-10e8-48e0-93b4-f50b4a8635a4",
   "metadata": {},
   "outputs": [
    {
     "name": "stdout",
     "output_type": "stream",
     "text": [
      "['sudh', 'mirza']\n"
     ]
    }
   ],
   "source": [
    "pw1.mentor_class([\"sudh\" , \"mirza\"])"
   ]
  },
  {
   "cell_type": "code",
   "execution_count": 12,
   "id": "607856a8-a045-4498-b60e-777df7946a93",
   "metadata": {},
   "outputs": [
    {
     "name": "stdout",
     "output_type": "stream",
     "text": [
      "['sudh', 'adil']\n"
     ]
    }
   ],
   "source": [
    "pwskills.mentor_class([\"sudh\" , \"adil\"])"
   ]
  },
  {
   "cell_type": "code",
   "execution_count": 21,
   "id": "808316df-0ef1-4515-afc2-69c15003b050",
   "metadata": {},
   "outputs": [],
   "source": [
    "class pwskills:\n",
    "    def student_details(self , name , mail_id , number) :\n",
    "        print(name , mail_id , number)\n",
    "        \n",
    "    @staticmethod\n",
    "    def mentor_mail_id(mail_id):\n",
    "        print(mail_id)\n",
    "        \n",
    "    @staticmethod\n",
    "    def mentor_class(list_mentor) :\n",
    "        print(list_mentor)\n",
    "        pwskills.mentor_mail_id([\"adil@gmail.com\" , \"sudh@gmail.com\"])\n",
    "        \n",
    "    @classmethod\n",
    "    def class_name(cls,class_name):\n",
    "        cls.mentor_class([\"sudh\" , \"adil\"])\n",
    "        \n",
    "    def mentor(self , mentor_list) :\n",
    "        print(mentor_list)\n",
    "        self.mentor_class([\"adil\" , \"sudh\"])"
   ]
  },
  {
   "cell_type": "code",
   "execution_count": 22,
   "id": "349abf8d-4b4e-4220-b7ed-cd5cbe7dae3b",
   "metadata": {},
   "outputs": [],
   "source": [
    "pw1 = pwskills()"
   ]
  },
  {
   "cell_type": "code",
   "execution_count": 23,
   "id": "c16a6a38-5796-45a5-a841-1ce0ed7109bd",
   "metadata": {},
   "outputs": [
    {
     "name": "stdout",
     "output_type": "stream",
     "text": [
      "mohan mohan@gmail.com 96786549\n"
     ]
    }
   ],
   "source": [
    "pw1.student_details(\"mohan\" , \"mohan@gmail.com\" , 96786549)"
   ]
  },
  {
   "cell_type": "code",
   "execution_count": 24,
   "id": "189c3b89-5e50-4002-aa5d-c1258b059c4c",
   "metadata": {},
   "outputs": [
    {
     "name": "stdout",
     "output_type": "stream",
     "text": [
      "['adil@gmail.com', 'sudh@gmail.com']\n"
     ]
    }
   ],
   "source": [
    "pw1.mentor_mail_id([\"adil@gmail.com\" , \"sudh@gmail.com\"])"
   ]
  },
  {
   "cell_type": "code",
   "execution_count": 25,
   "id": "07872a5f-193e-46b8-bf18-6d699efd559a",
   "metadata": {},
   "outputs": [
    {
     "name": "stdout",
     "output_type": "stream",
     "text": [
      "['sudh', 'adil']\n",
      "['adil@gmail.com', 'sudh@gmail.com']\n"
     ]
    }
   ],
   "source": [
    "pw1.class_name(\"data science masters\")"
   ]
  },
  {
   "cell_type": "code",
   "execution_count": 26,
   "id": "f805a0b3-4930-4585-8a23-0e9bc4f80058",
   "metadata": {},
   "outputs": [
    {
     "name": "stdout",
     "output_type": "stream",
     "text": [
      "['adil@gmail.com', 'sudh@gmail.com']\n"
     ]
    }
   ],
   "source": [
    "pwskills.mentor_mail_id([\"adil@gmail.com\" , \"sudh@gmail.com\"])"
   ]
  },
  {
   "cell_type": "code",
   "execution_count": null,
   "id": "37ee4d5c-ed14-4f4f-9858-151a6a626719",
   "metadata": {},
   "outputs": [],
   "source": []
  }
 ],
 "metadata": {
  "kernelspec": {
   "display_name": "Python 3 (ipykernel)",
   "language": "python",
   "name": "python3"
  },
  "language_info": {
   "codemirror_mode": {
    "name": "ipython",
    "version": 3
   },
   "file_extension": ".py",
   "mimetype": "text/x-python",
   "name": "python",
   "nbconvert_exporter": "python",
   "pygments_lexer": "ipython3",
   "version": "3.10.8"
  }
 },
 "nbformat": 4,
 "nbformat_minor": 5
}
